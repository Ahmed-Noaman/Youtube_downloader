{
 "cells": [
  {
   "cell_type": "code",
   "execution_count": 37,
   "id": "e48ca8db",
   "metadata": {},
   "outputs": [],
   "source": [
    "from pytube  import YouTube"
   ]
  },
  {
   "cell_type": "code",
   "execution_count": 38,
   "id": "e8d3999a",
   "metadata": {},
   "outputs": [
    {
     "name": "stdout",
     "output_type": "stream",
     "text": [
      "please enter video linke: https://www.youtube.com/watch?v=YaEG2aWJnZ8\n"
     ]
    }
   ],
   "source": [
    "link = input(\"please enter video linke: \")"
   ]
  },
  {
   "cell_type": "code",
   "execution_count": 39,
   "id": "bb669b2f",
   "metadata": {},
   "outputs": [],
   "source": [
    "my_video = YouTube(link)"
   ]
  },
  {
   "cell_type": "code",
   "execution_count": 40,
   "id": "60c7ae11",
   "metadata": {},
   "outputs": [
    {
     "name": "stdout",
     "output_type": "stream",
     "text": [
      "Sia - Unstoppable (Official Video - Live from the Nostalgic For The Present Tour)\n"
     ]
    }
   ],
   "source": [
    "print(my_video.title)"
   ]
  },
  {
   "cell_type": "code",
   "execution_count": 41,
   "id": "c9d95e97",
   "metadata": {},
   "outputs": [
    {
     "name": "stdout",
     "output_type": "stream",
     "text": [
      "https://i.ytimg.com/vi/YaEG2aWJnZ8/sddefault.jpg\n"
     ]
    }
   ],
   "source": [
    "print(my_video.thumbnail_url)"
   ]
  },
  {
   "cell_type": "code",
   "execution_count": 18,
   "id": "ba8265cc",
   "metadata": {},
   "outputs": [],
   "source": [
    "my_video = my_video.streams.get_highest_resolution()"
   ]
  },
  {
   "cell_type": "code",
   "execution_count": 36,
   "id": "609f4d8e",
   "metadata": {},
   "outputs": [],
   "source": [
    "my_video.download()"
   ]
  },
  {
   "cell_type": "code",
   "execution_count": null,
   "id": "fb3b123c",
   "metadata": {},
   "outputs": [],
   "source": []
  }
 ],
 "metadata": {
  "kernelspec": {
   "display_name": "Python 3 (ipykernel)",
   "language": "python",
   "name": "python3"
  },
  "language_info": {
   "codemirror_mode": {
    "name": "ipython",
    "version": 3
   },
   "file_extension": ".py",
   "mimetype": "text/x-python",
   "name": "python",
   "nbconvert_exporter": "python",
   "pygments_lexer": "ipython3",
   "version": "3.9.6"
  }
 },
 "nbformat": 4,
 "nbformat_minor": 5
}
